{
 "metadata": {
  "name": "",
  "signature": "sha256:4bdbd9824fb51dc6193c8cdb9b1061ed5638a1673efb38509f22ba51c33ce19a"
 },
 "nbformat": 3,
 "nbformat_minor": 0,
 "worksheets": [
  {
   "cells": [
    {
     "cell_type": "markdown",
     "metadata": {},
     "source": [
      "### Kaggle Competition | Titanic Machine Learning from Disaster"
     ]
    },
    {
     "cell_type": "markdown",
     "metadata": {},
     "source": [
      "The first thing to do is to import the relevant packages that I will need for my script, these include the Numpy (for maths and arrays) and csv for reading and writing csv files. If i want to use something from this I need to call  csv.[function] or np.[function] first."
     ]
    },
    {
     "cell_type": "code",
     "collapsed": false,
     "input": [
      "import csv as csv\n",
      "import numpy as np"
     ],
     "language": "python",
     "metadata": {},
     "outputs": [],
     "prompt_number": 2
    },
    {
     "cell_type": "markdown",
     "metadata": {},
     "source": [
      "Open up the csv file in to a Python object"
     ]
    },
    {
     "cell_type": "code",
     "collapsed": false,
     "input": [
      "csv_file_object = csv.reader(open('train.csv', 'rb'))"
     ],
     "language": "python",
     "metadata": {},
     "outputs": [],
     "prompt_number": 3
    },
    {
     "cell_type": "markdown",
     "metadata": {},
     "source": [
      "The next() command just skips the first line which is a header"
     ]
    },
    {
     "cell_type": "code",
     "collapsed": false,
     "input": [
      "header = csv_file_object.next()"
     ],
     "language": "python",
     "metadata": {},
     "outputs": [],
     "prompt_number": 4
    },
    {
     "cell_type": "code",
     "collapsed": false,
     "input": [
      "data = []"
     ],
     "language": "python",
     "metadata": {},
     "outputs": [],
     "prompt_number": 5
    },
    {
     "cell_type": "markdown",
     "metadata": {},
     "source": [
      "Run through each row in the csv file, adding each row to the data variable"
     ]
    },
    {
     "cell_type": "code",
     "collapsed": false,
     "input": [
      "for row in csv_file_object: data.append(row)"
     ],
     "language": "python",
     "metadata": {},
     "outputs": [],
     "prompt_number": 6
    },
    {
     "cell_type": "markdown",
     "metadata": {},
     "source": [
      "Then convert from a list to an array. Be aware that each item is currently a string in this format."
     ]
    },
    {
     "cell_type": "code",
     "collapsed": false,
     "input": [
      "data = np.array(data)"
     ],
     "language": "python",
     "metadata": {},
     "outputs": [],
     "prompt_number": 7
    },
    {
     "cell_type": "code",
     "collapsed": false,
     "input": [
      "data[0]"
     ],
     "language": "python",
     "metadata": {},
     "outputs": [
      {
       "metadata": {},
       "output_type": "pyout",
       "prompt_number": 8,
       "text": [
        "array(['1', '0', '3', 'Braund, Mr. Owen Harris', 'male', '22', '1', '0',\n",
        "       'A/5 21171', '7.25', '', 'S'], \n",
        "      dtype='|S82')"
       ]
      }
     ],
     "prompt_number": 8
    },
    {
     "cell_type": "markdown",
     "metadata": {},
     "source": [
      "The size()function counts how many elements are in the array and sum() (as you would expects) sums up the elements in the array."
     ]
    },
    {
     "cell_type": "code",
     "collapsed": false,
     "input": [
      "number_passengers = np.size(data[0::,1].astype(np.float))\n",
      "number_survived = np.sum(data[0::,1].astype(np.float))\n",
      "proportion_survivors = number_survived / number_passengers"
     ],
     "language": "python",
     "metadata": {},
     "outputs": [],
     "prompt_number": 18
    },
    {
     "cell_type": "code",
     "collapsed": false,
     "input": [
      "proportion_survivors"
     ],
     "language": "python",
     "metadata": {},
     "outputs": [
      {
       "metadata": {},
       "output_type": "pyout",
       "prompt_number": 19,
       "text": [
        "0.38383838383838381"
       ]
      }
     ],
     "prompt_number": 19
    },
    {
     "cell_type": "markdown",
     "metadata": {},
     "source": [
      "This finds where all the elements in the gender column that equals \"female\""
     ]
    },
    {
     "cell_type": "code",
     "collapsed": false,
     "input": [
      "women_only_stats = data[0::,4] == \"female\"\n",
      "men_only_stats = data[0::,4] != \"female\""
     ],
     "language": "python",
     "metadata": {},
     "outputs": [],
     "prompt_number": 22
    },
    {
     "cell_type": "markdown",
     "metadata": {},
     "source": [
      "Using the index from above we select the females and males separately"
     ]
    },
    {
     "cell_type": "code",
     "collapsed": false,
     "input": [
      "women_onboard = data[women_only_stats,1].astype(np.float)\n",
      "men_onboard = data[men_only_stats,1].astype(np.float)"
     ],
     "language": "python",
     "metadata": {},
     "outputs": [],
     "prompt_number": 23
    },
    {
     "cell_type": "markdown",
     "metadata": {},
     "source": [
      "Then we find the proportions of them that survived"
     ]
    },
    {
     "cell_type": "code",
     "collapsed": false,
     "input": [
      "proportion_women_survived = np.sum(women_onboard) / np.size(women_onboard)\n",
      "proportion_men_survived = np.sum(men_onboard) / np.size(men_onboard)"
     ],
     "language": "python",
     "metadata": {},
     "outputs": [],
     "prompt_number": 25
    },
    {
     "cell_type": "code",
     "collapsed": false,
     "input": [
      "print 'Proportion of women who survived is %s' % proportion_women_survived\n",
      "print 'Proportion of men who survived is %s' % proportion_men_survived"
     ],
     "language": "python",
     "metadata": {},
     "outputs": [
      {
       "output_type": "stream",
       "stream": "stdout",
       "text": [
        "Proportion of women who survived is 0.742038216561\n",
        "Proportion of men who survived is 0.188908145581\n"
       ]
      }
     ],
     "prompt_number": 26
    },
    {
     "cell_type": "code",
     "collapsed": false,
     "input": [
      "test_file = open('test.csv', 'rb')\n",
      "test_file_object = csv.reader(test_file)\n",
      "header = test_file_object.next()"
     ],
     "language": "python",
     "metadata": {},
     "outputs": [],
     "prompt_number": 28
    },
    {
     "cell_type": "code",
     "collapsed": false,
     "input": [
      "prediction_file = open('genderbasedmodel.csv', 'wb')\n",
      "prediction_file_object = csv.writer(prediction_file)"
     ],
     "language": "python",
     "metadata": {},
     "outputs": [],
     "prompt_number": 30
    },
    {
     "cell_type": "markdown",
     "metadata": {},
     "source": [
      "We now want to read in the test file row by row, see if it is female or male, and write our survival prediction to a new file."
     ]
    },
    {
     "cell_type": "code",
     "collapsed": false,
     "input": [
      "prediction_file_object.writerow([\"PassengerId\", \"Survived\"])\n",
      "for row in test_file_object:\n",
      "    if row[3] == \"female\":\n",
      "        prediction_file_object.writerow([row[0],'1'])\n",
      "    else:\n",
      "        prediction_file_object.writerow([row[0],'0'])\n",
      "test_file.close()\n",
      "prediction_file.close()"
     ],
     "language": "python",
     "metadata": {},
     "outputs": [],
     "prompt_number": 32
    },
    {
     "cell_type": "markdown",
     "metadata": {},
     "source": [
      "### Pythonising the second submission"
     ]
    },
    {
     "cell_type": "code",
     "collapsed": false,
     "input": [
      "fare_ceiling = 40"
     ],
     "language": "python",
     "metadata": {},
     "outputs": [],
     "prompt_number": 34
    },
    {
     "cell_type": "markdown",
     "metadata": {},
     "source": [
      "Modify the data in the Fare column to = 39, if it is greater or equal to the ceiling"
     ]
    },
    {
     "cell_type": "code",
     "collapsed": false,
     "input": [
      "data[ data[0::,9].astype(np.float) >= fare_ceiling, 9 ] = fare_ceiling - 1.0"
     ],
     "language": "python",
     "metadata": {},
     "outputs": [],
     "prompt_number": 35
    },
    {
     "cell_type": "code",
     "collapsed": false,
     "input": [
      "fare_bracket_size = 10\n",
      "number_of_price_brackets = fare_ceiling / fare_bracket_size\n",
      "number_of_classes = len(np.unique(data[0::,2]))"
     ],
     "language": "python",
     "metadata": {},
     "outputs": [],
     "prompt_number": 39
    },
    {
     "cell_type": "markdown",
     "metadata": {},
     "source": [
      "Initialize the surivival table with all zeros"
     ]
    },
    {
     "cell_type": "code",
     "collapsed": false,
     "input": [
      "survival_table = np.zeros((2, number_of_classes, number_of_price_brackets))"
     ],
     "language": "python",
     "metadata": {},
     "outputs": [],
     "prompt_number": 41
    },
    {
     "cell_type": "code",
     "collapsed": false,
     "input": [
      "for i in xrange(number_of_classes):\n",
      "    for j in xrange(number_of_price_brackets):\n",
      "        women_only_stats = data[(data[0::,4] == \"female\") & \n",
      "                                (data[0::,2].astype(np.float) == i + 1) &\n",
      "                                (data[0: ,9].astype(np.float) >= j * fare_bracket_size) &\n",
      "                                (data[0: ,9].astype(np.float) < (j + 1) * fare_bracket_size), 1]\n",
      "        men_only_stats   = data[(data[0::,4] != \"female\") &\n",
      "                                (data[0::,2].astype(np.float) == i + 1) &\n",
      "                                (data[0:, 9].astype(np.float) >= j * fare_bracket_size) &\n",
      "                                (data[0:, 9].astype(np.float) < (j + 1) * fare_bracket_size), 1]\n",
      "        survival_table[0,i,j] = np.mean(women_only_stats.astype(np.float))\n",
      "        survival_table[1,i,j] = np.mean(men_only_stats.astype(np.float))"
     ],
     "language": "python",
     "metadata": {},
     "outputs": [
      {
       "output_type": "stream",
       "stream": "stderr",
       "text": [
        "/usr/local/lib/python2.7/site-packages/numpy/core/_methods.py:55: RuntimeWarning: Mean of empty slice.\n",
        "  warnings.warn(\"Mean of empty slice.\", RuntimeWarning)\n",
        "/usr/local/lib/python2.7/site-packages/numpy/core/_methods.py:67: RuntimeWarning: invalid value encountered in double_scalars\n",
        "  ret = ret.dtype.type(ret / rcount)\n"
       ]
      }
     ],
     "prompt_number": 43
    },
    {
     "cell_type": "markdown",
     "metadata": {},
     "source": [
      "Note! A Runtime warning will show when the loop is run, but it won't affect the output. This approach created a problem if there are no passengers in a given category. For example, in reality no females paid less than $10 for a first class ticket, so Python will return a nan for the mean, since it is dividing by zero. To deal with these, we could set them to 0 using a simple statement:"
     ]
    },
    {
     "cell_type": "code",
     "collapsed": false,
     "input": [
      "survival_table[survival_table != survival_table] = 0"
     ],
     "language": "python",
     "metadata": {},
     "outputs": [],
     "prompt_number": 47
    },
    {
     "cell_type": "code",
     "collapsed": false,
     "input": [
      "print survival_table"
     ],
     "language": "python",
     "metadata": {},
     "outputs": [
      {
       "output_type": "stream",
       "stream": "stdout",
       "text": [
        "[[[ 0.          0.          0.83333333  0.97727273]\n",
        "  [ 0.          0.91428571  0.9         1.        ]\n",
        "  [ 0.59375     0.58139535  0.33333333  0.125     ]]\n",
        "\n",
        " [[ 0.          0.          0.4         0.38372093]\n",
        "  [ 0.          0.15873016  0.16        0.21428571]\n",
        "  [ 0.11153846  0.23684211  0.125       0.24      ]]]\n"
       ]
      }
     ],
     "prompt_number": 48
    },
    {
     "cell_type": "markdown",
     "metadata": {},
     "source": [
      "For our second model, let's again assume any probability greater than or equal to 0.5 should result in our predicting survival -- and less than 0.5 should not. We can update our survival table with:"
     ]
    },
    {
     "cell_type": "code",
     "collapsed": false,
     "input": [
      "survival_table[ survival_table <  0.5 ] = 0\n",
      "survival_table[ survival_table >= 0.5 ] = 1"
     ],
     "language": "python",
     "metadata": {},
     "outputs": [],
     "prompt_number": 49
    },
    {
     "cell_type": "code",
     "collapsed": false,
     "input": [
      "print survival_table"
     ],
     "language": "python",
     "metadata": {},
     "outputs": [
      {
       "output_type": "stream",
       "stream": "stdout",
       "text": [
        "[[[ 0.  0.  1.  1.]\n",
        "  [ 0.  1.  1.  1.]\n",
        "  [ 1.  1.  0.  0.]]\n",
        "\n",
        " [[ 0.  0.  0.  0.]\n",
        "  [ 0.  0.  0.  0.]\n",
        "  [ 0.  0.  0.  0.]]]\n"
       ]
      }
     ],
     "prompt_number": 50
    },
    {
     "cell_type": "code",
     "collapsed": false,
     "input": [
      "test_file = open('test.csv', 'rb')\n",
      "test_file_object = csv.reader(test_file)\n",
      "header = test_file_object.next()\n",
      "predictions_file = open(\"genderclassmodel.csv\", \"wb\")\n",
      "p = csv.writer(predictions_file)\n",
      "p.writerow([\"PassengerId\", \"Survived\"])"
     ],
     "language": "python",
     "metadata": {},
     "outputs": [],
     "prompt_number": 55
    },
    {
     "cell_type": "markdown",
     "metadata": {},
     "source": [
      "As with the previous model, we can take the first passenger, look at his/her gender, class, and price of ticket, and assign a Survived label. The problem is that each passenger in the test.csv file is not binned. We should loop through each bin and see if the price of their ticket falls in that bin. If so, we can break the loop (so we don\u2019t go through all the bins) and assign that bin:"
     ]
    },
    {
     "cell_type": "code",
     "collapsed": false,
     "input": [
      "for row in test_file_object:\n",
      "    for j in xrange(number_of_price_brackets):\n",
      "        try: # some passengers have no fare data so try to make a float\n",
      "            row[8] = float(row[8])\n",
      "        except:\n",
      "            bin_fare = 3 - float(row[1])\n",
      "            break\n",
      "        if row[8] > fare_ceiling:\n",
      "            bin_fare = number_of_price_brackets - 1\n",
      "            break\n",
      "        if row[8] >= j * fare_bracket_size and row[8] < (j + 1) * fare_bracket_size:\n",
      "            bin_fare = j\n",
      "            break\n",
      "        if row[3] == \"female\":\n",
      "            p.writerow([row[0], \"%d\" %int(survival_table[0, float(row[1]) - 1, bin_fare])])\n",
      "        else:\n",
      "            p.writerow([row[0], \"%d\" %int(survival_table[1, float(row[1]) - 1, bin_fare])])"
     ],
     "language": "python",
     "metadata": {},
     "outputs": [],
     "prompt_number": 56
    },
    {
     "cell_type": "code",
     "collapsed": false,
     "input": [
      "test_file.close()\n",
      "prediction_file.close()"
     ],
     "language": "python",
     "metadata": {},
     "outputs": [],
     "prompt_number": 57
    },
    {
     "cell_type": "code",
     "collapsed": false,
     "input": [],
     "language": "python",
     "metadata": {},
     "outputs": []
    }
   ],
   "metadata": {}
  }
 ]
}